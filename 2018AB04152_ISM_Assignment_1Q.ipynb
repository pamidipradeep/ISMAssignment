{
 "cells": [
  {
   "cell_type": "code",
   "execution_count": 94,
   "metadata": {},
   "outputs": [],
   "source": [
    "import math\n",
    "import scipy.stats as stats"
   ]
  },
  {
   "cell_type": "code",
   "execution_count": 95,
   "metadata": {},
   "outputs": [],
   "source": [
    "# Handles a two-sided Z-test\n",
    "def zTestTwoSided (mean, sd, significance, sampleMean, sampleSize):\n",
    "    zscore = (sampleMean - mean)/(sd/math.sqrt(sampleSize))\n",
    "    zLow = stats.norm.ppf(significance/2)\n",
    "    zHigh = stats.norm.ppf(1 - significance/2)\n",
    "    \n",
    "    print (zLow, zHigh, zscore)\n",
    "\n",
    "    if zLow <= zscore <= zHigh:\n",
    "        print ('Null Hypothesis Accepted')\n",
    "    else:\n",
    "        print ('Null Hypothesis Rejected')"
   ]
  },
  {
   "cell_type": "code",
   "execution_count": 96,
   "metadata": {},
   "outputs": [],
   "source": [
    "# Handles a two-sided t-test\n",
    "def tTestTwoSided (mean, sd, significance, sampleMean, sampleSd, sampleSize):\n",
    "    tscore = (sampleMean - mean)/(sampleSd/math.sqrt(sampleSize))\n",
    "    tLow = stats.t.ppf(significance/2, sampleSize-1)\n",
    "    tHigh = stats.t.ppf(1-(significance/2), sampleSize-1)\n",
    "    \n",
    "    print (tLow, tHigh, tscore)\n",
    "\n",
    "    if tLow <= tscore <= tHigh:\n",
    "        print ('Null Hypothesis Accepted')\n",
    "    else:\n",
    "        print ('Null Hypothesis Rejected')"
   ]
  },
  {
   "cell_type": "code",
   "execution_count": 100,
   "metadata": {},
   "outputs": [],
   "source": [
    "# Given Data\n",
    "mean = 1500\n",
    "sd = 100\n",
    "\n",
    "sampleSize = 9\n",
    "sampleMean = 1580\n",
    "sampleSd = 30"
   ]
  },
  {
   "cell_type": "code",
   "execution_count": 101,
   "metadata": {},
   "outputs": [
    {
     "name": "stdout",
     "output_type": "stream",
     "text": [
      "Z-Test:\n",
      "-2.575829303548901 2.5758293035489004 2.4\n",
      "Null Hypothesis Accepted\n",
      "\n",
      "t-Test:\n",
      "-3.3553873313333966 3.3553873313333957 8.0\n",
      "Null Hypothesis Rejected\n"
     ]
    }
   ],
   "source": [
    "# testing the hypothesis with 1% significance\n",
    "print ('Z-Test:')\n",
    "zTestTwoSided(mean, sd, 0.01, sampleMean, sampleSize)\n",
    "print ('\\nt-Test:')\n",
    "tTestTwoSided(mean, sd, 0.01, sampleMean, sampleSd, sampleSize)"
   ]
  },
  {
   "cell_type": "code",
   "execution_count": 102,
   "metadata": {},
   "outputs": [
    {
     "name": "stdout",
     "output_type": "stream",
     "text": [
      "Z-Test:\n",
      "-1.9599639845400545 1.959963984540054 2.4\n",
      "Null Hypothesis Rejected\n",
      "\n",
      "t-Test:\n",
      "-2.306004135033371 2.3060041350333704 8.0\n",
      "Null Hypothesis Rejected\n"
     ]
    }
   ],
   "source": [
    "# testing the hypothesis with 5% significance\n",
    "print ('Z-Test:')\n",
    "zTestTwoSided(mean, sd, 0.05, sampleMean, sampleSize)\n",
    "print ('\\nt-Test:')\n",
    "tTestTwoSided(mean, sd, 0.05, sampleMean, sampleSd, sampleSize)"
   ]
  },
  {
   "cell_type": "code",
   "execution_count": null,
   "metadata": {},
   "outputs": [],
   "source": []
  }
 ],
 "metadata": {
  "kernelspec": {
   "display_name": "Python 3",
   "language": "python",
   "name": "python3"
  },
  "language_info": {
   "codemirror_mode": {
    "name": "ipython",
    "version": 3
   },
   "file_extension": ".py",
   "mimetype": "text/x-python",
   "name": "python",
   "nbconvert_exporter": "python",
   "pygments_lexer": "ipython3",
   "version": "3.6.8"
  }
 },
 "nbformat": 4,
 "nbformat_minor": 2
}
